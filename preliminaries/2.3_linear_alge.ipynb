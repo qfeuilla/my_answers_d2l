{
 "metadata": {
  "language_info": {
   "codemirror_mode": {
    "name": "ipython",
    "version": 3
   },
   "file_extension": ".py",
   "mimetype": "text/x-python",
   "name": "python",
   "nbconvert_exporter": "python",
   "pygments_lexer": "ipython3",
   "version": "3.8.8"
  },
  "orig_nbformat": 2,
  "kernelspec": {
   "name": "python3",
   "display_name": "Python 3.8.8 64-bit ('base': conda)"
  },
  "interpreter": {
   "hash": "fe55b9f24d8452108871416900996aa93b6395251a5e4265f5d848b4a5f6394b"
  }
 },
 "nbformat": 4,
 "nbformat_minor": 2,
 "cells": [
  {
   "cell_type": "code",
   "execution_count": 2,
   "metadata": {},
   "outputs": [],
   "source": [
    "import torch\n",
    "import numpy as np"
   ]
  },
  {
   "source": [
    "Useful formula :\n",
    "- $ B = A^T $ then $ a_{i, j} = b_{j, i} $\n",
    "- $ A $ is symmetric if $ A = A^T $\n",
    "- $ A + B = B + A $ "
   ],
   "cell_type": "markdown",
   "metadata": {}
  },
  {
   "source": [
    "**Question 1 : Prove that the transpose of a matrix  $ A $’s transpose is  A :  $ (A^⊤)^⊤=A $.**"
   ],
   "cell_type": "markdown",
   "metadata": {}
  },
  {
   "source": [
    "let $ B = A^T $\n",
    "\n",
    "then $ b_{i, j} = a_{j, i} $\n",
    "\n",
    "let $ C = B^T $\n",
    "\n",
    "then $ c_{j, i} = b_{i, j} $\n",
    "\n",
    "\n",
    "$ c_{j, i} = a_{j, i} $\n",
    "so $ (A^T)^T = A $\n"
   ],
   "cell_type": "markdown",
   "metadata": {}
  },
  {
   "source": [
    "**Question 2 : Given two matrices $ A $ and $ B $, show that the sum of transposes is equal to the transpose of a sum:  $ A^⊤+B^⊤=(A+B)^⊤ $ .**"
   ],
   "cell_type": "markdown",
   "metadata": {}
  },
  {
   "source": [
    "let $ C = A^T $\n",
    "\n",
    "let $ D = B^T $\n",
    "\n",
    "let $ E = A + B $\n",
    "\n",
    "let $ F = E^T $\n",
    "\n",
    "then $ c_{i, j} + d_{i, j} = a_{j, i} + b_{j, i} $\n",
    "\n",
    "and $ e_{i, j} = a_{i, j} + b_{i, j} $\n",
    "\n",
    "and $ f_{i, j} = e_{j, i} $\n",
    "\n",
    "so $ f_{i, j} = a_{j, i} + b_{j, i} = c{i, j} + d_{i, j} $\n",
    "\n",
    "and $ F = (A + B)^T = A^T + B^T$\n"
   ],
   "cell_type": "markdown",
   "metadata": {}
  },
  {
   "source": [
    "**Question 3 : Given any square matrix $ A $, is  $ A + A^⊤ $  always symmetric? Why?**"
   ],
   "cell_type": "markdown",
   "metadata": {}
  },
  {
   "source": [
    "by question 2 : $ (A + A ^ T)^T = A ^ T + A $\n",
    "\n",
    "$ A + B = B + A $ so $ A^T + A = A + A^T $ so $ A + A^T $ is always symetric"
   ],
   "cell_type": "markdown",
   "metadata": {}
  },
  {
   "cell_type": "code",
   "execution_count": null,
   "metadata": {},
   "outputs": [],
   "source": []
  }
 ]
}